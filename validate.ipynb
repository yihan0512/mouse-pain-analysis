{
 "cells": [
  {
   "cell_type": "code",
   "execution_count": 16,
   "id": "fe1ea4f0-15c7-4f70-abf8-a420a5c519e3",
   "metadata": {},
   "outputs": [],
   "source": [
    "import os\n",
    "import glob\n",
    "import pandas as pd\n",
    "import matplotlib.pyplot as plt"
   ]
  },
  {
   "cell_type": "code",
   "execution_count": 4,
   "id": "d3fbd6f8-8dd4-428b-9c65-4318de6fff50",
   "metadata": {},
   "outputs": [],
   "source": [
    "project_path = 'mouse_pain_4_deepethogram'"
   ]
  },
  {
   "cell_type": "code",
   "execution_count": 5,
   "id": "6b364bbe-5dbd-4fc9-875c-829491623618",
   "metadata": {},
   "outputs": [],
   "source": [
    "list_of_labels = glob.glob(os.path.join(project_path, 'DATA', '*', '*_labels.csv'))\n",
    "list_of_predictions = glob.glob(os.path.join(project_path, 'DATA', '*', '*_predictions.csv'))"
   ]
  },
  {
   "cell_type": "code",
   "execution_count": 9,
   "id": "9b91cc11-aa3e-4cb8-b293-53b7d687098b",
   "metadata": {},
   "outputs": [],
   "source": [
    "for pair in zip(list_of_labels, list_of_predictions):\n",
    "    df = pd.read_csv(pair[0])\n",
    "    df1 = pd.read_csv(pair[1])"
   ]
  },
  {
   "cell_type": "code",
   "execution_count": 14,
   "id": "b13c69c6-6007-4a4e-8d94-adb6c1ee0d26",
   "metadata": {
    "tags": []
   },
   "outputs": [
    {
     "data": {
      "text/plain": [
       "Unnamed: 0                             30000\n",
       "background                               343\n",
       "left_hindpaw_biting/licking            30000\n",
       "right_hindpaw_biting/licking           29915\n",
       "genital_licking                        29805\n",
       "bout_of_hindpaw_scratchingandbiting    29932\n",
       "dtype: int64"
      ]
     },
     "execution_count": 14,
     "metadata": {},
     "output_type": "execute_result"
    }
   ],
   "source": [
    "(df == df1).sum()"
   ]
  },
  {
   "cell_type": "code",
   "execution_count": null,
   "id": "e50f5ee4-e362-4eae-a927-26eb63230a7d",
   "metadata": {},
   "outputs": [],
   "source": []
  }
 ],
 "metadata": {
  "kernelspec": {
   "display_name": "Python 3 (ipykernel)",
   "language": "python",
   "name": "python3"
  },
  "language_info": {
   "codemirror_mode": {
    "name": "ipython",
    "version": 3
   },
   "file_extension": ".py",
   "mimetype": "text/x-python",
   "name": "python",
   "nbconvert_exporter": "python",
   "pygments_lexer": "ipython3",
   "version": "3.10.4"
  }
 },
 "nbformat": 4,
 "nbformat_minor": 5
}
